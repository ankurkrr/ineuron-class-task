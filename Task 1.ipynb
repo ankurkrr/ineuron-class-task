{
 "cells": [
  {
   "cell_type": "code",
   "execution_count": null,
   "id": "7cbcd9a1",
   "metadata": {},
   "outputs": [],
   "source": [
    "CLASS 4 HOMEWORK s = \"\"this is My First Python programming class and i am learNING python string and its function\"\"\n",
    "\n",
    "Try to extract data from index one to index 300 with a jump 0f 3\n",
    "Try to reverse a string without using reverse function\n",
    "Try to split a string after conversion of entire string in uppercase\n",
    "Try to convert whole string into lower case\n",
    "Try to capitalize whole string\n",
    "Write difference between isalnum() and isalpha()\n",
    "Try to give an example of exapand tab\n",
    "Give an example of strip, lstrip and rstrip\n",
    "Replace a string character by another character by taking your own example\n",
    "Try to give a definition of string center function with an example\n",
    "Write your definition of compiler and interpretor without copy paste from internet\n",
    "Python is an interpreted or compile language. Give a clear answer with your understanding\n",
    "Try to write a use case of python with your understanding"
   ]
  },
  {
   "cell_type": "code",
   "execution_count": 4,
   "id": "a47f9467",
   "metadata": {},
   "outputs": [],
   "source": [
    "s = \"this is My First Python programming class and i am learNING python string and its function\""
   ]
  },
  {
   "cell_type": "code",
   "execution_count": null,
   "id": "47547e18",
   "metadata": {},
   "outputs": [],
   "source": []
  },
  {
   "cell_type": "code",
   "execution_count": 5,
   "id": "04c9ee28",
   "metadata": {},
   "outputs": [
    {
     "data": {
      "text/plain": [
       "'tssyityopgmncsa alrNph rgni ni'"
      ]
     },
     "execution_count": 5,
     "metadata": {},
     "output_type": "execute_result"
    }
   ],
   "source": [
    "s [0:300:3]"
   ]
  },
  {
   "cell_type": "code",
   "execution_count": null,
   "id": "4df46f46",
   "metadata": {},
   "outputs": [],
   "source": []
  },
  {
   "cell_type": "code",
   "execution_count": 7,
   "id": "27d86ec7",
   "metadata": {
    "scrolled": true
   },
   "outputs": [
    {
     "data": {
      "text/plain": [
       "'noitcnuf sti dna gnirts nohtyp GNINrael ma i dna ssalc gnimmargorp nohtyP tsriF yM si sih'"
      ]
     },
     "execution_count": 7,
     "metadata": {},
     "output_type": "execute_result"
    }
   ],
   "source": [
    "s [300:0:-1]"
   ]
  },
  {
   "cell_type": "code",
   "execution_count": null,
   "id": "b925a416",
   "metadata": {},
   "outputs": [],
   "source": []
  },
  {
   "cell_type": "code",
   "execution_count": 24,
   "id": "9d34217a",
   "metadata": {},
   "outputs": [
    {
     "data": {
      "text/plain": [
       "['THIS',\n",
       " 'IS',\n",
       " 'MY',\n",
       " 'FIRST',\n",
       " 'PYTHON',\n",
       " 'PROGRAMMING',\n",
       " 'CLASS',\n",
       " 'AND',\n",
       " 'I',\n",
       " 'AM',\n",
       " 'LEARNING',\n",
       " 'PYTHON',\n",
       " 'STRING',\n",
       " 'AND',\n",
       " 'ITS',\n",
       " 'FUNCTION']"
      ]
     },
     "execution_count": 24,
     "metadata": {},
     "output_type": "execute_result"
    }
   ],
   "source": [
    "s1 = s.upper()\n",
    "s1.split()"
   ]
  },
  {
   "cell_type": "code",
   "execution_count": null,
   "id": "ac77db2c",
   "metadata": {},
   "outputs": [],
   "source": []
  },
  {
   "cell_type": "code",
   "execution_count": 25,
   "id": "4a214d64",
   "metadata": {},
   "outputs": [
    {
     "data": {
      "text/plain": [
       "'this is my first python programming class and i am learning python string and its function'"
      ]
     },
     "execution_count": 25,
     "metadata": {},
     "output_type": "execute_result"
    }
   ],
   "source": [
    "s2 = s.lower()\n",
    "s2"
   ]
  },
  {
   "cell_type": "code",
   "execution_count": null,
   "id": "cc09ba20",
   "metadata": {},
   "outputs": [],
   "source": []
  },
  {
   "cell_type": "code",
   "execution_count": 26,
   "id": "7aabc0d3",
   "metadata": {},
   "outputs": [
    {
     "data": {
      "text/plain": [
       "'this is My First Python programming class and i am learNING python string and its function'"
      ]
     },
     "execution_count": 26,
     "metadata": {},
     "output_type": "execute_result"
    }
   ],
   "source": [
    "s.capitalize()\n",
    "s"
   ]
  },
  {
   "cell_type": "code",
   "execution_count": null,
   "id": "be3a7f7b",
   "metadata": {},
   "outputs": [],
   "source": []
  },
  {
   "cell_type": "code",
   "execution_count": 49,
   "id": "6692be33",
   "metadata": {},
   "outputs": [
    {
     "name": "stdout",
     "output_type": "stream",
     "text": [
      "ankur4545\n",
      "isalnum = True\n",
      "isalpha =  False\n"
     ]
    }
   ],
   "source": [
    "# isalnum = A string is alpha-numeric if all characters in the string are alpha-numeric and\n",
    "# there is at least one character in the string. Otherwise False\n",
    "\n",
    "# isalpha = A string is alphabetic if all characters in the string are alphabetic and there\n",
    "# is at least one character in the string.\n",
    "a = \"ankur4545\"\n",
    "print(a)\n",
    "a1 = a.isalnum()\n",
    "a2 = a.isalpha()\n",
    "print(\"isalnum =\", a1)\n",
    "print(\"isalpha = \", a2)"
   ]
  },
  {
   "cell_type": "code",
   "execution_count": null,
   "id": "ba26d702",
   "metadata": {},
   "outputs": [],
   "source": []
  },
  {
   "cell_type": "code",
   "execution_count": 53,
   "id": "04c7d06d",
   "metadata": {},
   "outputs": [
    {
     "name": "stdout",
     "output_type": "stream",
     "text": [
      "ankur   Kumar\n"
     ]
    }
   ],
   "source": [
    "a = \"ankur\\tKumar\"\n",
    "a1 = a.expandtabs()\n",
    "print(a1)"
   ]
  },
  {
   "cell_type": "code",
   "execution_count": null,
   "id": "7c987af0",
   "metadata": {},
   "outputs": [],
   "source": []
  },
  {
   "cell_type": "code",
   "execution_count": 57,
   "id": "cb49c4d0",
   "metadata": {},
   "outputs": [
    {
     "name": "stdout",
     "output_type": "stream",
     "text": [
      "ankurkumar\n"
     ]
    }
   ],
   "source": [
    "b = \"  ankurkumar    \" \n",
    "b1 = b.strip()\n",
    "print(b1)"
   ]
  },
  {
   "cell_type": "code",
   "execution_count": null,
   "id": "25494437",
   "metadata": {},
   "outputs": [],
   "source": []
  },
  {
   "cell_type": "code",
   "execution_count": 58,
   "id": "81a06520",
   "metadata": {},
   "outputs": [
    {
     "name": "stdout",
     "output_type": "stream",
     "text": [
      "ankur\n"
     ]
    }
   ],
   "source": [
    "b2 = \"   ankur\"\n",
    "b21 = b2.strip()\n",
    "print(b21)"
   ]
  },
  {
   "cell_type": "code",
   "execution_count": null,
   "id": "0ba7c108",
   "metadata": {},
   "outputs": [],
   "source": []
  },
  {
   "cell_type": "code",
   "execution_count": 60,
   "id": "1cc962ee",
   "metadata": {},
   "outputs": [
    {
     "name": "stdout",
     "output_type": "stream",
     "text": [
      "ankur\n"
     ]
    }
   ],
   "source": [
    "b3 = \"ankur   \"\n",
    "b31 = b3.strip()\n",
    "print(b31)"
   ]
  },
  {
   "cell_type": "code",
   "execution_count": null,
   "id": "73e7e4c5",
   "metadata": {},
   "outputs": [],
   "source": []
  },
  {
   "cell_type": "code",
   "execution_count": 64,
   "id": "d2c56b18",
   "metadata": {},
   "outputs": [
    {
     "data": {
      "text/plain": [
       "'aharaater'"
      ]
     },
     "execution_count": 64,
     "metadata": {},
     "output_type": "execute_result"
    }
   ],
   "source": [
    "r = \"character\"\n",
    "r.replace(\"c\", \"a\")"
   ]
  },
  {
   "cell_type": "code",
   "execution_count": null,
   "id": "79c1fba1",
   "metadata": {},
   "outputs": [],
   "source": []
  },
  {
   "cell_type": "code",
   "execution_count": 70,
   "id": "460cc37d",
   "metadata": {},
   "outputs": [
    {
     "data": {
      "text/plain": [
       "'*******ankur********'"
      ]
     },
     "execution_count": 70,
     "metadata": {},
     "output_type": "execute_result"
    }
   ],
   "source": [
    "sc = \"ankur\"\n",
    "sc.center(20, '*')"
   ]
  },
  {
   "cell_type": "code",
   "execution_count": null,
   "id": "e057f7e4",
   "metadata": {},
   "outputs": [],
   "source": []
  },
  {
   "cell_type": "code",
   "execution_count": 71,
   "id": "cd42d208",
   "metadata": {},
   "outputs": [],
   "source": [
    "# Compiler is used to scan and translate whole code at once to the machine code as complier is faster whereas,\n",
    "# interpretor scans the code line by line and translate to the machine code and its slower then compiler."
   ]
  },
  {
   "cell_type": "code",
   "execution_count": null,
   "id": "e068c25d",
   "metadata": {},
   "outputs": [],
   "source": []
  },
  {
   "cell_type": "code",
   "execution_count": 72,
   "id": "cdf9bbb4",
   "metadata": {},
   "outputs": [],
   "source": [
    "# In various books of python programming, it is mentioned that python language is interpreted. \n",
    "# But that is half correct the python program is first compiled and then interpreted. \n",
    "# The compilation part is hidden from the programmer thus, many programmers believe that it is an interpreted language. \n",
    "# The compilation part is done first when we execute our code and this will generate byte code and \n",
    "# internally this byte code gets converted by the python virtual machine(p.v.m)\n",
    "# according to the underlying platform(machine+operating system)."
   ]
  },
  {
   "cell_type": "code",
   "execution_count": null,
   "id": "07be0688",
   "metadata": {},
   "outputs": [],
   "source": []
  },
  {
   "cell_type": "code",
   "execution_count": null,
   "id": "c37c3f5a",
   "metadata": {},
   "outputs": [],
   "source": [
    "# Python is Vastly used in :\n",
    "# Data Science\n",
    "# Data Analytics\n",
    "# Web Development\n",
    "# Software Development\n",
    "# Web Scrapping\n",
    "# IOT"
   ]
  }
 ],
 "metadata": {
  "kernelspec": {
   "display_name": "Python 3 (ipykernel)",
   "language": "python",
   "name": "python3"
  },
  "language_info": {
   "codemirror_mode": {
    "name": "ipython",
    "version": 3
   },
   "file_extension": ".py",
   "mimetype": "text/x-python",
   "name": "python",
   "nbconvert_exporter": "python",
   "pygments_lexer": "ipython3",
   "version": "3.9.12"
  }
 },
 "nbformat": 4,
 "nbformat_minor": 5
}
